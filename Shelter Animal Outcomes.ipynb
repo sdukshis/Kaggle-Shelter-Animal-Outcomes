{
 "cells": [
  {
   "cell_type": "markdown",
   "metadata": {},
   "source": [
    "# Kaggle Shelter Animal Outcomes\n",
    "\n",
    "https://www.kaggle.com/c/shelter-animal-outcomes\n",
    "\n",
    "The data comes from Austin Animal Center from October 1st, 2013 to March, 2016. Outcomes represent the status of animals as they leave the Animal Center. All animals receive a unique Animal ID during intake. \n",
    "\n",
    "In this competition, you are going to predict the outcome of the animal as they leave the Animal Center. These outcomes include: Adoption, Died, Euthanasia, Return to owner, and Transfer. \n",
    "\n",
    "The train and test data are randomly split. "
   ]
  },
  {
   "cell_type": "code",
   "execution_count": 598,
   "metadata": {
    "collapsed": true
   },
   "outputs": [],
   "source": [
    "import matplotlib.pyplot as plt\n",
    "%matplotlib inline"
   ]
  },
  {
   "cell_type": "code",
   "execution_count": 507,
   "metadata": {
    "collapsed": true
   },
   "outputs": [],
   "source": [
    "import pandas as pd\n",
    "\n",
    "train = pd.read_csv('train.csv.gz')"
   ]
  },
  {
   "cell_type": "code",
   "execution_count": 508,
   "metadata": {
    "collapsed": false
   },
   "outputs": [
    {
     "data": {
      "text/html": [
       "<div>\n",
       "<table border=\"1\" class=\"dataframe\">\n",
       "  <thead>\n",
       "    <tr style=\"text-align: right;\">\n",
       "      <th></th>\n",
       "      <th>AnimalID</th>\n",
       "      <th>Name</th>\n",
       "      <th>DateTime</th>\n",
       "      <th>OutcomeType</th>\n",
       "      <th>OutcomeSubtype</th>\n",
       "      <th>AnimalType</th>\n",
       "      <th>SexuponOutcome</th>\n",
       "      <th>AgeuponOutcome</th>\n",
       "      <th>Breed</th>\n",
       "      <th>Color</th>\n",
       "    </tr>\n",
       "  </thead>\n",
       "  <tbody>\n",
       "    <tr>\n",
       "      <th>0</th>\n",
       "      <td>A671945</td>\n",
       "      <td>Hambone</td>\n",
       "      <td>2014-02-12 18:22:00</td>\n",
       "      <td>Return_to_owner</td>\n",
       "      <td>NaN</td>\n",
       "      <td>Dog</td>\n",
       "      <td>Neutered Male</td>\n",
       "      <td>1 year</td>\n",
       "      <td>Shetland Sheepdog Mix</td>\n",
       "      <td>Brown/White</td>\n",
       "    </tr>\n",
       "    <tr>\n",
       "      <th>1</th>\n",
       "      <td>A656520</td>\n",
       "      <td>Emily</td>\n",
       "      <td>2013-10-13 12:44:00</td>\n",
       "      <td>Euthanasia</td>\n",
       "      <td>Suffering</td>\n",
       "      <td>Cat</td>\n",
       "      <td>Spayed Female</td>\n",
       "      <td>1 year</td>\n",
       "      <td>Domestic Shorthair Mix</td>\n",
       "      <td>Cream Tabby</td>\n",
       "    </tr>\n",
       "    <tr>\n",
       "      <th>2</th>\n",
       "      <td>A686464</td>\n",
       "      <td>Pearce</td>\n",
       "      <td>2015-01-31 12:28:00</td>\n",
       "      <td>Adoption</td>\n",
       "      <td>Foster</td>\n",
       "      <td>Dog</td>\n",
       "      <td>Neutered Male</td>\n",
       "      <td>2 years</td>\n",
       "      <td>Pit Bull Mix</td>\n",
       "      <td>Blue/White</td>\n",
       "    </tr>\n",
       "    <tr>\n",
       "      <th>3</th>\n",
       "      <td>A683430</td>\n",
       "      <td>NaN</td>\n",
       "      <td>2014-07-11 19:09:00</td>\n",
       "      <td>Transfer</td>\n",
       "      <td>Partner</td>\n",
       "      <td>Cat</td>\n",
       "      <td>Intact Male</td>\n",
       "      <td>3 weeks</td>\n",
       "      <td>Domestic Shorthair Mix</td>\n",
       "      <td>Blue Cream</td>\n",
       "    </tr>\n",
       "    <tr>\n",
       "      <th>4</th>\n",
       "      <td>A667013</td>\n",
       "      <td>NaN</td>\n",
       "      <td>2013-11-15 12:52:00</td>\n",
       "      <td>Transfer</td>\n",
       "      <td>Partner</td>\n",
       "      <td>Dog</td>\n",
       "      <td>Neutered Male</td>\n",
       "      <td>2 years</td>\n",
       "      <td>Lhasa Apso/Miniature Poodle</td>\n",
       "      <td>Tan</td>\n",
       "    </tr>\n",
       "  </tbody>\n",
       "</table>\n",
       "</div>"
      ],
      "text/plain": [
       "  AnimalID     Name             DateTime      OutcomeType OutcomeSubtype  \\\n",
       "0  A671945  Hambone  2014-02-12 18:22:00  Return_to_owner            NaN   \n",
       "1  A656520    Emily  2013-10-13 12:44:00       Euthanasia      Suffering   \n",
       "2  A686464   Pearce  2015-01-31 12:28:00         Adoption         Foster   \n",
       "3  A683430      NaN  2014-07-11 19:09:00         Transfer        Partner   \n",
       "4  A667013      NaN  2013-11-15 12:52:00         Transfer        Partner   \n",
       "\n",
       "  AnimalType SexuponOutcome AgeuponOutcome                        Breed  \\\n",
       "0        Dog  Neutered Male         1 year        Shetland Sheepdog Mix   \n",
       "1        Cat  Spayed Female         1 year       Domestic Shorthair Mix   \n",
       "2        Dog  Neutered Male        2 years                 Pit Bull Mix   \n",
       "3        Cat    Intact Male        3 weeks       Domestic Shorthair Mix   \n",
       "4        Dog  Neutered Male        2 years  Lhasa Apso/Miniature Poodle   \n",
       "\n",
       "         Color  \n",
       "0  Brown/White  \n",
       "1  Cream Tabby  \n",
       "2   Blue/White  \n",
       "3   Blue Cream  \n",
       "4          Tan  "
      ]
     },
     "execution_count": 508,
     "metadata": {},
     "output_type": "execute_result"
    }
   ],
   "source": [
    "train.head()"
   ]
  },
  {
   "cell_type": "code",
   "execution_count": 509,
   "metadata": {
    "collapsed": false
   },
   "outputs": [
    {
     "data": {
      "text/plain": [
       "26729"
      ]
     },
     "execution_count": 509,
     "metadata": {},
     "output_type": "execute_result"
    }
   ],
   "source": [
    "len(train)"
   ]
  },
  {
   "cell_type": "code",
   "execution_count": 510,
   "metadata": {
    "collapsed": false
   },
   "outputs": [
    {
     "data": {
      "text/plain": [
       "AnimalID          0.000000\n",
       "Name              0.028774\n",
       "DateTime          0.000000\n",
       "OutcomeType       0.000000\n",
       "OutcomeSubtype    0.050926\n",
       "AnimalType        0.000000\n",
       "SexuponOutcome    0.000004\n",
       "AgeuponOutcome    0.000067\n",
       "Breed             0.000000\n",
       "Color             0.000000\n",
       "dtype: float64"
      ]
     },
     "execution_count": 510,
     "metadata": {},
     "output_type": "execute_result"
    }
   ],
   "source": [
    "train.isnull().sum()/train.size"
   ]
  },
  {
   "cell_type": "code",
   "execution_count": 511,
   "metadata": {
    "collapsed": false
   },
   "outputs": [
    {
     "data": {
      "text/plain": [
       "<matplotlib.axes._subplots.AxesSubplot at 0x7f9877cfc990>"
      ]
     },
     "execution_count": 511,
     "metadata": {},
     "output_type": "execute_result"
    },
    {
     "data": {
      "image/png": "[encoded data removed]",
      "text/plain": [
       "<matplotlib.figure.Figure at 0x7f98781772d0>"
      ]
     },
     "metadata": {},
     "output_type": "display_data"
    }
   ],
   "source": [
    "train['OutcomeType'].value_counts().plot(kind='bar')"
   ]
  },
  {
   "cell_type": "code",
   "execution_count": 512,
   "metadata": {
    "collapsed": false
   },
   "outputs": [
    {
     "data": {
      "text/plain": [
       "<matplotlib.axes._subplots.AxesSubplot at 0x7f9877d08f10>"
      ]
     },
     "execution_count": 512,
     "metadata": {},
     "output_type": "execute_result"
    },
    {
     "data": {
      "image/png": "[encoded data removed]",
      "text/plain": [
       "<matplotlib.figure.Figure at 0x7f9877cf8fd0>"
      ]
     },
     "metadata": {},
     "output_type": "display_data"
    }
   ],
   "source": [
    "train.pivot_table(values='AnimalID', index='OutcomeType', columns='AnimalType', aggfunc='count').plot(kind='bar', stacked=True)"
   ]
  },
  {
   "cell_type": "code",
   "execution_count": 513,
   "metadata": {
    "collapsed": false
   },
   "outputs": [
    {
     "data": {
      "text/plain": [
       "<matplotlib.axes._subplots.AxesSubplot at 0x7f9877bd0910>"
      ]
     },
     "execution_count": 513,
     "metadata": {},
     "output_type": "execute_result"
    },
    {
     "data": {
      "image/png": "[encoded data removed]",
      "text/plain": [
       "<matplotlib.figure.Figure at 0x7f9877b7d150>"
      ]
     },
     "metadata": {},
     "output_type": "display_data"
    }
   ],
   "source": [
    "train['AnimalType'].value_counts().plot(kind='bar')"
   ]
  },
  {
   "cell_type": "code",
   "execution_count": 550,
   "metadata": {
    "collapsed": true
   },
   "outputs": [],
   "source": [
    "import re\n",
    "import numpy as np\n",
    "def AgeuponOutcome2Age(age):\n",
    "    if pd.isnull(age):\n",
    "        return age\n",
    "    assert type(age) is str, age\n",
    "    m = re.match(r'(\\d+)\\s+(\\w+)', age)\n",
    "    \n",
    "    scale = {\n",
    "        'day': 1,\n",
    "        'week': 7,\n",
    "        'month': 30,\n",
    "        'year': 365,\n",
    "    }\n",
    "    number = int(m.groups(0)[0])\n",
    "    interval = m.groups(0)[1]\n",
    "    interval = interval if not interval.endswith('s') else interval[:-1] \n",
    "    return number*scale[interval]"
   ]
  },
  {
   "cell_type": "code",
   "execution_count": 551,
   "metadata": {
    "collapsed": false
   },
   "outputs": [],
   "source": [
    "train['Age'] = train['AgeuponOutcome'].map(AgeuponOutcome2Age)"
   ]
  },
  {
   "cell_type": "code",
   "execution_count": 516,
   "metadata": {
    "collapsed": false
   },
   "outputs": [
    {
     "data": {
      "text/plain": [
       "<matplotlib.axes._subplots.AxesSubplot at 0x7f9877d08dd0>"
      ]
     },
     "execution_count": 516,
     "metadata": {},
     "output_type": "execute_result"
    },
    {
     "data": {
      "image/png": "[encoded data removed]",
      "text/plain": [
       "<matplotlib.figure.Figure at 0x7f9877a9fbd0>"
      ]
     },
     "metadata": {},
     "output_type": "display_data"
    }
   ],
   "source": [
    "train['Age'].hist(bins=30)"
   ]
  },
  {
   "cell_type": "code",
   "execution_count": 517,
   "metadata": {
    "collapsed": false
   },
   "outputs": [
    {
     "data": {
      "text/plain": [
       "array([[<matplotlib.axes._subplots.AxesSubplot object at 0x7f9877b2bdd0>,\n",
       "        <matplotlib.axes._subplots.AxesSubplot object at 0x7f987784f250>],\n",
       "       [<matplotlib.axes._subplots.AxesSubplot object at 0x7f98777d0290>,\n",
       "        <matplotlib.axes._subplots.AxesSubplot object at 0x7f98777a7f10>],\n",
       "       [<matplotlib.axes._subplots.AxesSubplot object at 0x7f98777353d0>,\n",
       "        <matplotlib.axes._subplots.AxesSubplot object at 0x7f9877703b90>]], dtype=object)"
      ]
     },
     "execution_count": 517,
     "metadata": {},
     "output_type": "execute_result"
    },
    {
     "data": {
      "image/png": "[encoded data removed]",
      "text/plain": [
       "<matplotlib.figure.Figure at 0x7f98779513d0>"
      ]
     },
     "metadata": {},
     "output_type": "display_data"
    }
   ],
   "source": [
    "train.pivot_table(values='AnimalID', index='Age', columns='OutcomeType', aggfunc='count').hist(figsize=(20, 10))"
   ]
  },
  {
   "cell_type": "code",
   "execution_count": 518,
   "metadata": {
    "collapsed": false
   },
   "outputs": [],
   "source": [
    "for target_column in train['OutcomeType'].unique():\n",
    "    train[target_column] = (train['OutcomeType'] == target_column).astype(int)"
   ]
  },
  {
   "cell_type": "code",
   "execution_count": 519,
   "metadata": {
    "collapsed": false
   },
   "outputs": [
    {
     "data": {
      "text/html": [
       "<div>\n",
       "<table border=\"1\" class=\"dataframe\">\n",
       "  <thead>\n",
       "    <tr style=\"text-align: right;\">\n",
       "      <th></th>\n",
       "      <th>AnimalID</th>\n",
       "      <th>Name</th>\n",
       "      <th>DateTime</th>\n",
       "      <th>OutcomeType</th>\n",
       "      <th>OutcomeSubtype</th>\n",
       "      <th>AnimalType</th>\n",
       "      <th>SexuponOutcome</th>\n",
       "      <th>AgeuponOutcome</th>\n",
       "      <th>Breed</th>\n",
       "      <th>Color</th>\n",
       "      <th>Age</th>\n",
       "      <th>Return_to_owner</th>\n",
       "      <th>Euthanasia</th>\n",
       "      <th>Adoption</th>\n",
       "      <th>Transfer</th>\n",
       "      <th>Died</th>\n",
       "    </tr>\n",
       "  </thead>\n",
       "  <tbody>\n",
       "    <tr>\n",
       "      <th>0</th>\n",
       "      <td>A671945</td>\n",
       "      <td>Hambone</td>\n",
       "      <td>2014-02-12 18:22:00</td>\n",
       "      <td>Return_to_owner</td>\n",
       "      <td>NaN</td>\n",
       "      <td>Dog</td>\n",
       "      <td>Neutered Male</td>\n",
       "      <td>1 year</td>\n",
       "      <td>Shetland Sheepdog Mix</td>\n",
       "      <td>Brown/White</td>\n",
       "      <td>365.0</td>\n",
       "      <td>1</td>\n",
       "      <td>0</td>\n",
       "      <td>0</td>\n",
       "      <td>0</td>\n",
       "      <td>0</td>\n",
       "    </tr>\n",
       "    <tr>\n",
       "      <th>1</th>\n",
       "      <td>A656520</td>\n",
       "      <td>Emily</td>\n",
       "      <td>2013-10-13 12:44:00</td>\n",
       "      <td>Euthanasia</td>\n",
       "      <td>Suffering</td>\n",
       "      <td>Cat</td>\n",
       "      <td>Spayed Female</td>\n",
       "      <td>1 year</td>\n",
       "      <td>Domestic Shorthair Mix</td>\n",
       "      <td>Cream Tabby</td>\n",
       "      <td>365.0</td>\n",
       "      <td>0</td>\n",
       "      <td>1</td>\n",
       "      <td>0</td>\n",
       "      <td>0</td>\n",
       "      <td>0</td>\n",
       "    </tr>\n",
       "    <tr>\n",
       "      <th>2</th>\n",
       "      <td>A686464</td>\n",
       "      <td>Pearce</td>\n",
       "      <td>2015-01-31 12:28:00</td>\n",
       "      <td>Adoption</td>\n",
       "      <td>Foster</td>\n",
       "      <td>Dog</td>\n",
       "      <td>Neutered Male</td>\n",
       "      <td>2 years</td>\n",
       "      <td>Pit Bull Mix</td>\n",
       "      <td>Blue/White</td>\n",
       "      <td>730.0</td>\n",
       "      <td>0</td>\n",
       "      <td>0</td>\n",
       "      <td>1</td>\n",
       "      <td>0</td>\n",
       "      <td>0</td>\n",
       "    </tr>\n",
       "    <tr>\n",
       "      <th>3</th>\n",
       "      <td>A683430</td>\n",
       "      <td>NaN</td>\n",
       "      <td>2014-07-11 19:09:00</td>\n",
       "      <td>Transfer</td>\n",
       "      <td>Partner</td>\n",
       "      <td>Cat</td>\n",
       "      <td>Intact Male</td>\n",
       "      <td>3 weeks</td>\n",
       "      <td>Domestic Shorthair Mix</td>\n",
       "      <td>Blue Cream</td>\n",
       "      <td>21.0</td>\n",
       "      <td>0</td>\n",
       "      <td>0</td>\n",
       "      <td>0</td>\n",
       "      <td>1</td>\n",
       "      <td>0</td>\n",
       "    </tr>\n",
       "    <tr>\n",
       "      <th>4</th>\n",
       "      <td>A667013</td>\n",
       "      <td>NaN</td>\n",
       "      <td>2013-11-15 12:52:00</td>\n",
       "      <td>Transfer</td>\n",
       "      <td>Partner</td>\n",
       "      <td>Dog</td>\n",
       "      <td>Neutered Male</td>\n",
       "      <td>2 years</td>\n",
       "      <td>Lhasa Apso/Miniature Poodle</td>\n",
       "      <td>Tan</td>\n",
       "      <td>730.0</td>\n",
       "      <td>0</td>\n",
       "      <td>0</td>\n",
       "      <td>0</td>\n",
       "      <td>1</td>\n",
       "      <td>0</td>\n",
       "    </tr>\n",
       "  </tbody>\n",
       "</table>\n",
       "</div>"
      ],
      "text/plain": [
       "  AnimalID     Name             DateTime      OutcomeType OutcomeSubtype  \\\n",
       "0  A671945  Hambone  2014-02-12 18:22:00  Return_to_owner            NaN   \n",
       "1  A656520    Emily  2013-10-13 12:44:00       Euthanasia      Suffering   \n",
       "2  A686464   Pearce  2015-01-31 12:28:00         Adoption         Foster   \n",
       "3  A683430      NaN  2014-07-11 19:09:00         Transfer        Partner   \n",
       "4  A667013      NaN  2013-11-15 12:52:00         Transfer        Partner   \n",
       "\n",
       "  AnimalType SexuponOutcome AgeuponOutcome                        Breed  \\\n",
       "0        Dog  Neutered Male         1 year        Shetland Sheepdog Mix   \n",
       "1        Cat  Spayed Female         1 year       Domestic Shorthair Mix   \n",
       "2        Dog  Neutered Male        2 years                 Pit Bull Mix   \n",
       "3        Cat    Intact Male        3 weeks       Domestic Shorthair Mix   \n",
       "4        Dog  Neutered Male        2 years  Lhasa Apso/Miniature Poodle   \n",
       "\n",
       "         Color    Age  Return_to_owner  Euthanasia  Adoption  Transfer  Died  \n",
       "0  Brown/White  365.0                1           0         0         0     0  \n",
       "1  Cream Tabby  365.0                0           1         0         0     0  \n",
       "2   Blue/White  730.0                0           0         1         0     0  \n",
       "3   Blue Cream   21.0                0           0         0         1     0  \n",
       "4          Tan  730.0                0           0         0         1     0  "
      ]
     },
     "execution_count": 519,
     "metadata": {},
     "output_type": "execute_result"
    }
   ],
   "source": [
    "train.head()"
   ]
  },
  {
   "cell_type": "code",
   "execution_count": 520,
   "metadata": {
    "collapsed": false
   },
   "outputs": [
    {
     "data": {
      "text/plain": [
       "<matplotlib.axes._subplots.AxesSubplot at 0x7f98774406d0>"
      ]
     },
     "execution_count": 520,
     "metadata": {},
     "output_type": "execute_result"
    },
    {
     "data": {
      "image/png": "[encoded data removed]",
      "text/plain": [
       "<matplotlib.figure.Figure at 0x7f9877492350>"
      ]
     },
     "metadata": {},
     "output_type": "display_data"
    }
   ],
   "source": [
    "train.pivot_table(values='Age', index='AnimalType', aggfunc='median').plot(kind='bar')"
   ]
  },
  {
   "cell_type": "code",
   "execution_count": null,
   "metadata": {
    "collapsed": true
   },
   "outputs": [],
   "source": []
  },
  {
   "cell_type": "code",
   "execution_count": 587,
   "metadata": {
    "collapsed": false
   },
   "outputs": [],
   "source": [
    "train['AnimalType'] = train['AnimalType'].fillna('Dog')\n",
    "\n",
    "train['Age'].fillna(value=train['Age'].median(), inplace=True)\n",
    "# for animalType in train['AnimalType'].unique():\n",
    "#     rows = train['AnimalType'] == animalType\n",
    "#     train[rows]['Age'].fillna(value=train[rows]['Age'].median(), inplace=True)\n",
    "\n",
    "\n",
    "train['CatOrDog'] = train['AnimalType'].map(lambda x: {'Cat': 0, 'Dog': 1}[x])\n",
    "targets_encoder = {}\n",
    "targets_decoder = {}\n",
    "for i, target in enumerate(train['OutcomeType'].unique()):\n",
    "    targets_encoder[target] = i\n",
    "    targets_decoder[i] = target\n",
    "train['OutcomeTypeEncoded'] = train[\"OutcomeType\"].map(lambda t: targets_encoder[t])\n",
    "\n",
    "train['HasName'] = (~train['Name'].isnull()).astype(int)\n",
    "\n",
    "def MaleFemale(sex):\n",
    "    if pd.isnull(sex):\n",
    "        return sex\n",
    "    if 'Male' in sex:\n",
    "        return 1\n",
    "    if 'Female' in sex:\n",
    "        return 0\n",
    "    return np.nan\n",
    "\n",
    "def Intact(sex):\n",
    "    if pd.isnull(sex):\n",
    "        return np.nan\n",
    "    if 'Intact' in sex:\n",
    "        return 1\n",
    "    if 'Neutered' in sex or 'Spayed' in sex:\n",
    "        return 0\n",
    "    return np.nan\n",
    "\n",
    "train['Sex'] = train['SexuponOutcome'].map(MaleFemale)\n",
    "train['Sex'].fillna(1, inplace=True)\n",
    "\n",
    "train['Intact'] = train['SexuponOutcome'].map(Intact)"
   ]
  },
  {
   "cell_type": "code",
   "execution_count": 593,
   "metadata": {
    "collapsed": false
   },
   "outputs": [],
   "source": [
    "train['Intact'].value_counts(dropna=False)\n",
    "train['Intact'].fillna(0, inplace=True)"
   ]
  },
  {
   "cell_type": "code",
   "execution_count": 570,
   "metadata": {
    "collapsed": false
   },
   "outputs": [
    {
     "data": {
      "text/plain": [
       "array(['Neutered Male', 'Spayed Female', 'Intact Male', 'Intact Female',\n",
       "       'Unknown', nan], dtype=object)"
      ]
     },
     "execution_count": 570,
     "metadata": {},
     "output_type": "execute_result"
    }
   ],
   "source": [
    "train['SexuponOutcome'].unique()"
   ]
  },
  {
   "cell_type": "code",
   "execution_count": 594,
   "metadata": {
    "collapsed": true
   },
   "outputs": [],
   "source": [
    "from sklearn.cross_validation import train_test_split\n",
    "\n",
    "features = ['CatOrDog', 'Age', 'HasName', 'Sex', 'Intact']\n",
    "targets = 'OutcomeTypeEncoded'\n",
    "\n",
    "X_train, X_test, y_train, y_test = train_test_split(train[features], train[targets], test_size=0.1)"
   ]
  },
  {
   "cell_type": "code",
   "execution_count": 595,
   "metadata": {
    "collapsed": false
   },
   "outputs": [
    {
     "data": {
      "text/html": [
       "<div>\n",
       "<table border=\"1\" class=\"dataframe\">\n",
       "  <thead>\n",
       "    <tr style=\"text-align: right;\">\n",
       "      <th></th>\n",
       "      <th>CatOrDog</th>\n",
       "      <th>Age</th>\n",
       "      <th>HasName</th>\n",
       "      <th>Sex</th>\n",
       "      <th>Intact</th>\n",
       "      <th>Return_to_owner</th>\n",
       "      <th>Euthanasia</th>\n",
       "      <th>Adoption</th>\n",
       "      <th>Transfer</th>\n",
       "      <th>Died</th>\n",
       "    </tr>\n",
       "  </thead>\n",
       "  <tbody>\n",
       "    <tr>\n",
       "      <th>CatOrDog</th>\n",
       "      <td>1.000000</td>\n",
       "      <td>0.232501</td>\n",
       "      <td>0.304307</td>\n",
       "      <td>-0.001598</td>\n",
       "      <td>-0.191305</td>\n",
       "      <td>0.295644</td>\n",
       "      <td>-0.020186</td>\n",
       "      <td>0.033087</td>\n",
       "      <td>-0.251020</td>\n",
       "      <td>-0.057618</td>\n",
       "    </tr>\n",
       "    <tr>\n",
       "      <th>Age</th>\n",
       "      <td>0.232501</td>\n",
       "      <td>1.000000</td>\n",
       "      <td>0.231058</td>\n",
       "      <td>-0.014587</td>\n",
       "      <td>-0.143228</td>\n",
       "      <td>0.307592</td>\n",
       "      <td>0.150070</td>\n",
       "      <td>-0.147621</td>\n",
       "      <td>-0.164570</td>\n",
       "      <td>-0.023731</td>\n",
       "    </tr>\n",
       "    <tr>\n",
       "      <th>HasName</th>\n",
       "      <td>0.304307</td>\n",
       "      <td>0.231058</td>\n",
       "      <td>1.000000</td>\n",
       "      <td>-0.042625</td>\n",
       "      <td>-0.379714</td>\n",
       "      <td>0.263859</td>\n",
       "      <td>-0.129770</td>\n",
       "      <td>0.239370</td>\n",
       "      <td>-0.382965</td>\n",
       "      <td>-0.061175</td>\n",
       "    </tr>\n",
       "    <tr>\n",
       "      <th>Sex</th>\n",
       "      <td>-0.001598</td>\n",
       "      <td>-0.014587</td>\n",
       "      <td>-0.042625</td>\n",
       "      <td>1.000000</td>\n",
       "      <td>-0.045170</td>\n",
       "      <td>0.031113</td>\n",
       "      <td>0.027052</td>\n",
       "      <td>-0.064402</td>\n",
       "      <td>0.025243</td>\n",
       "      <td>0.014814</td>\n",
       "    </tr>\n",
       "    <tr>\n",
       "      <th>Intact</th>\n",
       "      <td>-0.191305</td>\n",
       "      <td>-0.143228</td>\n",
       "      <td>-0.379714</td>\n",
       "      <td>-0.045170</td>\n",
       "      <td>1.000000</td>\n",
       "      <td>-0.106766</td>\n",
       "      <td>0.170094</td>\n",
       "      <td>-0.428469</td>\n",
       "      <td>0.427445</td>\n",
       "      <td>0.082579</td>\n",
       "    </tr>\n",
       "    <tr>\n",
       "      <th>Return_to_owner</th>\n",
       "      <td>0.295644</td>\n",
       "      <td>0.307592</td>\n",
       "      <td>0.263859</td>\n",
       "      <td>0.031113</td>\n",
       "      <td>-0.106766</td>\n",
       "      <td>1.000000</td>\n",
       "      <td>-0.116072</td>\n",
       "      <td>-0.383627</td>\n",
       "      <td>-0.344587</td>\n",
       "      <td>-0.040243</td>\n",
       "    </tr>\n",
       "    <tr>\n",
       "      <th>Euthanasia</th>\n",
       "      <td>-0.020186</td>\n",
       "      <td>0.150070</td>\n",
       "      <td>-0.129770</td>\n",
       "      <td>0.027052</td>\n",
       "      <td>0.170094</td>\n",
       "      <td>-0.116072</td>\n",
       "      <td>1.000000</td>\n",
       "      <td>-0.204155</td>\n",
       "      <td>-0.183379</td>\n",
       "      <td>-0.021416</td>\n",
       "    </tr>\n",
       "    <tr>\n",
       "      <th>Adoption</th>\n",
       "      <td>0.033087</td>\n",
       "      <td>-0.147621</td>\n",
       "      <td>0.239370</td>\n",
       "      <td>-0.064402</td>\n",
       "      <td>-0.428469</td>\n",
       "      <td>-0.383627</td>\n",
       "      <td>-0.204155</td>\n",
       "      <td>1.000000</td>\n",
       "      <td>-0.606083</td>\n",
       "      <td>-0.070781</td>\n",
       "    </tr>\n",
       "    <tr>\n",
       "      <th>Transfer</th>\n",
       "      <td>-0.251020</td>\n",
       "      <td>-0.164570</td>\n",
       "      <td>-0.382965</td>\n",
       "      <td>0.025243</td>\n",
       "      <td>0.427445</td>\n",
       "      <td>-0.344587</td>\n",
       "      <td>-0.183379</td>\n",
       "      <td>-0.606083</td>\n",
       "      <td>1.000000</td>\n",
       "      <td>-0.063578</td>\n",
       "    </tr>\n",
       "    <tr>\n",
       "      <th>Died</th>\n",
       "      <td>-0.057618</td>\n",
       "      <td>-0.023731</td>\n",
       "      <td>-0.061175</td>\n",
       "      <td>0.014814</td>\n",
       "      <td>0.082579</td>\n",
       "      <td>-0.040243</td>\n",
       "      <td>-0.021416</td>\n",
       "      <td>-0.070781</td>\n",
       "      <td>-0.063578</td>\n",
       "      <td>1.000000</td>\n",
       "    </tr>\n",
       "  </tbody>\n",
       "</table>\n",
       "</div>"
      ],
      "text/plain": [
       "                 CatOrDog       Age   HasName       Sex    Intact  \\\n",
       "CatOrDog         1.000000  0.232501  0.304307 -0.001598 -0.191305   \n",
       "Age              0.232501  1.000000  0.231058 -0.014587 -0.143228   \n",
       "HasName          0.304307  0.231058  1.000000 -0.042625 -0.379714   \n",
       "Sex             -0.001598 -0.014587 -0.042625  1.000000 -0.045170   \n",
       "Intact          -0.191305 -0.143228 -0.379714 -0.045170  1.000000   \n",
       "Return_to_owner  0.295644  0.307592  0.263859  0.031113 -0.106766   \n",
       "Euthanasia      -0.020186  0.150070 -0.129770  0.027052  0.170094   \n",
       "Adoption         0.033087 -0.147621  0.239370 -0.064402 -0.428469   \n",
       "Transfer        -0.251020 -0.164570 -0.382965  0.025243  0.427445   \n",
       "Died            -0.057618 -0.023731 -0.061175  0.014814  0.082579   \n",
       "\n",
       "                 Return_to_owner  Euthanasia  Adoption  Transfer      Died  \n",
       "CatOrDog                0.295644   -0.020186  0.033087 -0.251020 -0.057618  \n",
       "Age                     0.307592    0.150070 -0.147621 -0.164570 -0.023731  \n",
       "HasName                 0.263859   -0.129770  0.239370 -0.382965 -0.061175  \n",
       "Sex                     0.031113    0.027052 -0.064402  0.025243  0.014814  \n",
       "Intact                 -0.106766    0.170094 -0.428469  0.427445  0.082579  \n",
       "Return_to_owner         1.000000   -0.116072 -0.383627 -0.344587 -0.040243  \n",
       "Euthanasia             -0.116072    1.000000 -0.204155 -0.183379 -0.021416  \n",
       "Adoption               -0.383627   -0.204155  1.000000 -0.606083 -0.070781  \n",
       "Transfer               -0.344587   -0.183379 -0.606083  1.000000 -0.063578  \n",
       "Died                   -0.040243   -0.021416 -0.070781 -0.063578  1.000000  "
      ]
     },
     "execution_count": 595,
     "metadata": {},
     "output_type": "execute_result"
    }
   ],
   "source": [
    "train[features + train['OutcomeType'].unique().tolist()].corr()"
   ]
  },
  {
   "cell_type": "code",
   "execution_count": 637,
   "metadata": {
    "collapsed": false
   },
   "outputs": [
    {
     "data": {
      "text/plain": [
       "<matplotlib.axes._subplots.AxesSubplot at 0x7f9875bf1a10>"
      ]
     },
     "execution_count": 637,
     "metadata": {},
     "output_type": "execute_result"
    },
    {
     "data": {
      "image/png": "[encoded data removed]",
      "text/plain": [
       "<matplotlib.figure.Figure at 0x7f9875c7eb90>"
      ]
     },
     "metadata": {},
     "output_type": "display_data"
    }
   ],
   "source": [
    "import seaborn as sns\n",
    "corr = train[features + train['OutcomeType'].unique().tolist()].corr()\n",
    "\n",
    "mask = np.zeros_like(corr, dtype=np.bool)\n",
    "mask[np.triu_indices_from(mask)] = True\n",
    "\n",
    "# Set up the matplotlib figure\n",
    "f, ax = plt.subplots(figsize=(11, 9))\n",
    "\n",
    "# Generate a custom diverging colormap\n",
    "cmap = sns.diverging_palette(220, 10, as_cmap=True)\n",
    "\n",
    "# Draw the heatmap with the mask and correct aspect ratio\n",
    "sns.heatmap(corr, mask=mask, cmap=cmap, vmax=.3,\n",
    "            square=True, linewidths=.5, cbar_kws={\"shrink\": .5}, ax=ax)"
   ]
  },
  {
   "cell_type": "code",
   "execution_count": 642,
   "metadata": {
    "collapsed": false
   },
   "outputs": [
    {
     "data": {
      "text/plain": [
       "array([['Agouti'], ['Agouti', 'Brown Tabby'], ['Apricot'],\n",
       "       ['Apricot', 'Brown'], ['Apricot', 'White'], ['Black'],\n",
       "       ['Black', 'Black'], ['Black', 'Black Brindle'],\n",
       "       ['Black', 'Black Smoke'], ['Black', 'Black Tabby'],\n",
       "       ['Black', 'Blue'], ['Black', 'Blue Merle'], ['Black', 'Blue Tick'],\n",
       "       ['Black', 'Brown'], ['Black', 'Brown Brindle'],\n",
       "       ['Black', 'Brown Merle'], ['Black', 'Buff'], ['Black', 'Chocolate'],\n",
       "       ['Black', 'Cream'], ['Black', 'Gray'], ['Black', 'Orange'],\n",
       "       ['Black', 'Red'], ['Black', 'Silver'], ['Black', 'Silver Tabby'],\n",
       "       ['Black', 'Tan'], ['Black', 'Tricolor'], ['Black', 'White'],\n",
       "       ['Black', 'Yellow'], ['Black', 'Yellow Brindle'], ['Black Brindle'],\n",
       "       ['Black Brindle', 'Black'], ['Black Brindle', 'Brown'],\n",
       "       ['Black Brindle', 'Brown Brindle'], ['Black Brindle', 'White'],\n",
       "       ['Black Smoke'], ['Black Smoke', 'Brown Tabby'],\n",
       "       ['Black Smoke', 'White'], ['Black Tabby'],\n",
       "       ['Black Tabby', 'Orange'], ['Black Tabby', 'White'],\n",
       "       ['Black Tiger', 'White'], ['Blue'], ['Blue', 'Black'],\n",
       "       ['Blue', 'Brown'], ['Blue', 'Brown Brindle'], ['Blue', 'Cream'],\n",
       "       ['Blue', 'Orange'], ['Blue', 'Tan'], ['Blue', 'Tortie'],\n",
       "       ['Blue', 'White'], ['Blue', 'Yellow Brindle'], ['Blue Cream'],\n",
       "       ['Blue Cream', 'Blue Tabby'], ['Blue Cream', 'Blue Tiger'],\n",
       "       ['Blue Cream', 'Buff'], ['Blue Cream', 'Tortie'],\n",
       "       ['Blue Cream', 'White'], ['Blue Merle'], ['Blue Merle', 'Black'],\n",
       "       ['Blue Merle', 'Blue Merle'], ['Blue Merle', 'Brown'],\n",
       "       ['Blue Merle', 'Cream'], ['Blue Merle', 'Gray'],\n",
       "       ['Blue Merle', 'Red'], ['Blue Merle', 'Red Merle'],\n",
       "       ['Blue Merle', 'Tan'], ['Blue Merle', 'Tricolor'],\n",
       "       ['Blue Merle', 'White'], ['Blue Point'], ['Blue Point', 'White'],\n",
       "       ['Blue Smoke'], ['Blue Smoke', 'Brown'], ['Blue Tabby'],\n",
       "       ['Blue Tabby', 'Blue Cream'], ['Blue Tabby', 'Cream'],\n",
       "       ['Blue Tabby', 'Orange'], ['Blue Tabby', 'Tan'],\n",
       "       ['Blue Tabby', 'White'], ['Blue Tick'], ['Blue Tick', 'Black'],\n",
       "       ['Blue Tick', 'Brown'], ['Blue Tick', 'Brown Brindle'],\n",
       "       ['Blue Tick', 'Red'], ['Blue Tick', 'Red Tick'],\n",
       "       ['Blue Tick', 'Tan'], ['Blue Tick', 'White'], ['Blue Tiger'],\n",
       "       ['Blue Tiger', 'White'], ['Brown'], ['Brown', 'Black'],\n",
       "       ['Brown', 'Black Brindle'], ['Brown', 'Black Tabby'],\n",
       "       ['Brown', 'Blue'], ['Brown', 'Blue Smoke'], ['Brown', 'Brown'],\n",
       "       ['Brown', 'Brown Merle'], ['Brown', 'Buff'], ['Brown', 'Chocolate'],\n",
       "       ['Brown', 'Cream'], ['Brown', 'Gray'], ['Brown', 'Red'],\n",
       "       ['Brown', 'Red Tick'], ['Brown', 'Silver'], ['Brown', 'Tan'],\n",
       "       ['Brown', 'Tricolor'], ['Brown', 'White'], ['Brown Brindle'],\n",
       "       ['Brown Brindle', 'Black'], ['Brown Brindle', 'Blue'],\n",
       "       ['Brown Brindle', 'Blue Cream'], ['Brown Brindle', 'Blue Tick'],\n",
       "       ['Brown Brindle', 'Brown Brindle'],\n",
       "       ['Brown Brindle', 'Brown Merle'], ['Brown Brindle', 'Red Tick'],\n",
       "       ['Brown Brindle', 'Tan'], ['Brown Brindle', 'White'],\n",
       "       ['Brown Merle'], ['Brown Merle', 'Black'],\n",
       "       ['Brown Merle', 'Blue Merle'], ['Brown Merle', 'Tan'],\n",
       "       ['Brown Merle', 'White'], ['Brown Tabby'], ['Brown Tabby', 'Black'],\n",
       "       ['Brown Tabby', 'Brown'], ['Brown Tabby', 'Gray'],\n",
       "       ['Brown Tabby', 'Gray Tabby'], ['Brown Tabby', 'Orange'],\n",
       "       ['Brown Tabby', 'Tortie'], ['Brown Tabby', 'White'],\n",
       "       ['Brown Tiger'], ['Brown Tiger', 'White'], ['Buff'],\n",
       "       ['Buff', 'Black'], ['Buff', 'Brown'], ['Buff', 'Gray'],\n",
       "       ['Buff', 'Red'], ['Buff', 'Tan'], ['Buff', 'White'],\n",
       "       ['Buff', 'Yellow'], ['Calico'], ['Calico', 'Black'],\n",
       "       ['Calico', 'Blue Cream'], ['Calico', 'Blue Tabby'],\n",
       "       ['Calico', 'Brown'], ['Calico', 'Brown Tabby'],\n",
       "       ['Calico', 'Orange Tabby'], ['Calico', 'Tricolor'],\n",
       "       ['Calico', 'White'], ['Calico Point'], ['Calico Point', 'White'],\n",
       "       ['Chocolate'], ['Chocolate', 'Black'], ['Chocolate', 'Black Smoke'],\n",
       "       ['Chocolate', 'Brown'], ['Chocolate', 'Brown Brindle'],\n",
       "       ['Chocolate', 'Brown Merle'], ['Chocolate', 'Cream'],\n",
       "       ['Chocolate', 'Gold'], ['Chocolate', 'Gray'], ['Chocolate', 'Red'],\n",
       "       ['Chocolate', 'Red Tick'], ['Chocolate', 'Tan'],\n",
       "       ['Chocolate', 'Tricolor'], ['Chocolate', 'White'],\n",
       "       ['Chocolate Point'], ['Chocolate Point', 'White'], ['Cream'],\n",
       "       ['Cream', 'Black'], ['Cream', 'Brown'], ['Cream', 'Gray'],\n",
       "       ['Cream', 'Orange'], ['Cream', 'Red'], ['Cream', 'Red Tick'],\n",
       "       ['Cream', 'Seal Point'], ['Cream', 'Tan'], ['Cream', 'White'],\n",
       "       ['Cream Tabby'], ['Cream Tabby', 'White'], ['Fawn'],\n",
       "       ['Fawn', 'Black'], ['Fawn', 'Blue'], ['Fawn', 'Brown'],\n",
       "       ['Fawn', 'Brown Brindle'], ['Fawn', 'Tan'], ['Fawn', 'Tricolor'],\n",
       "       ['Fawn', 'White'], ['Flame Point'], ['Gold'], ['Gold', 'Black'],\n",
       "       ['Gold', 'Buff'], ['Gold', 'Gold'], ['Gold', 'Tan'],\n",
       "       ['Gold', 'White'], ['Gold', 'Yellow'], ['Gray'], ['Gray', 'Black'],\n",
       "       ['Gray', 'Brown'], ['Gray', 'Cream'], ['Gray', 'Red'],\n",
       "       ['Gray', 'Silver'], ['Gray', 'Tan'], ['Gray', 'White'],\n",
       "       ['Gray Tabby'], ['Gray Tabby', 'Black'], ['Gray Tabby', 'White'],\n",
       "       ['Lilac Point'], ['Liver', 'Buff'], ['Liver', 'Tan'],\n",
       "       ['Liver', 'White'], ['Liver Tick'], ['Liver Tick', 'White'],\n",
       "       ['Lynx Point'], ['Lynx Point', 'Brown Tabby'],\n",
       "       ['Lynx Point', 'Gray Tabby'], ['Lynx Point', 'White'], ['Orange'],\n",
       "       ['Orange', 'Orange Tabby'], ['Orange', 'Tan'], ['Orange', 'White'],\n",
       "       ['Orange Tabby'], ['Orange Tabby', 'Apricot'],\n",
       "       ['Orange Tabby', 'Black'], ['Orange Tabby', 'Orange'],\n",
       "       ['Orange Tabby', 'White'], ['Orange Tiger'], ['Pink'], ['Red'],\n",
       "       ['Red', 'Black'], ['Red', 'Blue'], ['Red', 'Brown'],\n",
       "       ['Red', 'Buff'], ['Red', 'Cream'], ['Red', 'Gold'],\n",
       "       ['Red', 'Red Merle'], ['Red', 'Red Tick'], ['Red', 'Silver'],\n",
       "       ['Red', 'Tan'], ['Red', 'Tricolor'], ['Red', 'White'],\n",
       "       ['Red Merle'], ['Red Merle', 'Black'], ['Red Merle', 'Tan'],\n",
       "       ['Red Merle', 'White'], ['Red Tick'], ['Red Tick', 'Black'],\n",
       "       ['Red Tick', 'Blue Tick'], ['Red Tick', 'Brown'],\n",
       "       ['Red Tick', 'Brown Merle'], ['Red Tick', 'Red'],\n",
       "       ['Red Tick', 'Tan'], ['Red Tick', 'White'], ['Ruddy', 'Cream'],\n",
       "       ['Sable'], ['Sable', 'Black'], ['Sable', 'Brown'],\n",
       "       ['Sable', 'Buff'], ['Sable', 'Cream'], ['Sable', 'Red'],\n",
       "       ['Sable', 'Tan'], ['Sable', 'White'], ['Seal Point'],\n",
       "       ['Seal Point', 'Brown'], ['Seal Point', 'White'], ['Silver'],\n",
       "       ['Silver', 'Black'], ['Silver', 'Brown'], ['Silver', 'Chocolate'],\n",
       "       ['Silver', 'Red'], ['Silver', 'Tan'], ['Silver', 'White'],\n",
       "       ['Silver Lynx Point'], ['Silver Tabby'], ['Silver Tabby', 'Black'],\n",
       "       ['Silver Tabby', 'White'], ['Tan'], ['Tan', 'Apricot'],\n",
       "       ['Tan', 'Black'], ['Tan', 'Blue'], ['Tan', 'Brown'],\n",
       "       ['Tan', 'Brown Brindle'], ['Tan', 'Brown Merle'], ['Tan', 'Buff'],\n",
       "       ['Tan', 'Cream'], ['Tan', 'Gold'], ['Tan', 'Gray'], ['Tan', 'Red'],\n",
       "       ['Tan', 'Silver'], ['Tan', 'Tan'], ['Tan', 'Tricolor'],\n",
       "       ['Tan', 'White'], ['Tan', 'Yellow Brindle'], ['Torbie'],\n",
       "       ['Torbie', 'Blue Cream'], ['Torbie', 'Brown'], ['Torbie', 'Calico'],\n",
       "       ['Torbie', 'White'], ['Tortie'], ['Tortie', 'Black'],\n",
       "       ['Tortie', 'Black Smoke'], ['Tortie', 'Blue Cream'],\n",
       "       ['Tortie', 'Brown'], ['Tortie', 'Calico'], ['Tortie', 'Orange'],\n",
       "       ['Tortie', 'White'], ['Tortie Point'],\n",
       "       ['Tortie Point', 'Lynx Point'], ['Tortie Point', 'White'],\n",
       "       ['Tricolor'], ['Tricolor', 'Black'], ['Tricolor', 'Blue'],\n",
       "       ['Tricolor', 'Blue Merle'], ['Tricolor', 'Brown'],\n",
       "       ['Tricolor', 'Brown Merle'], ['Tricolor', 'Calico'],\n",
       "       ['Tricolor', 'Chocolate'], ['Tricolor', 'Silver'],\n",
       "       ['Tricolor', 'Tan'], ['Tricolor', 'White'], ['White'],\n",
       "       ['White', 'Apricot'], ['White', 'Black'],\n",
       "       ['White', 'Black Brindle'], ['White', 'Black Smoke'],\n",
       "       ['White', 'Black Tabby'], ['White', 'Blue'],\n",
       "       ['White', 'Blue Cream'], ['White', 'Blue Merle'],\n",
       "       ['White', 'Blue Tabby'], ['White', 'Blue Tick'], ['White', 'Brown'],\n",
       "       ['White', 'Brown Brindle'], ['White', 'Brown Merle'],\n",
       "       ['White', 'Brown Tabby'], ['White', 'Brown Tiger'],\n",
       "       ['White', 'Buff'], ['White', 'Calico'], ['White', 'Chocolate'],\n",
       "       ['White', 'Chocolate Point'], ['White', 'Cream'],\n",
       "       ['White', 'Cream Tabby'], ['White', 'Flame Point'],\n",
       "       ['White', 'Gold'], ['White', 'Gray'], ['White', 'Gray Tabby'],\n",
       "       ['White', 'Liver'], ['White', 'Lynx Point'], ['White', 'Orange'],\n",
       "       ['White', 'Orange Tabby'], ['White', 'Pink'], ['White', 'Red'],\n",
       "       ['White', 'Red Merle'], ['White', 'Red Tick'], ['White', 'Silver'],\n",
       "       ['White', 'Tan'], ['White', 'Tricolor'], ['White', 'White'],\n",
       "       ['White', 'Yellow'], ['White', 'Yellow Brindle'], ['Yellow'],\n",
       "       ['Yellow', 'Black'], ['Yellow', 'White'], ['Yellow', 'Yellow'],\n",
       "       ['Yellow Brindle'], ['Yellow Brindle', 'Blue'],\n",
       "       ['Yellow Brindle', 'Tan'], ['Yellow Brindle', 'White']], dtype=object)"
      ]
     },
     "execution_count": 642,
     "metadata": {},
     "output_type": "execute_result"
    }
   ],
   "source": [
    "colors = map(lambda c: c.split('/'), train['Color'].unique())\n",
    "np.unique(colors)"
   ]
  },
  {
   "cell_type": "code",
   "execution_count": 596,
   "metadata": {
    "collapsed": false
   },
   "outputs": [
    {
     "data": {
      "text/plain": [
       "CatOrDog    24056\n",
       "Age         24056\n",
       "HasName     24056\n",
       "Sex         24056\n",
       "Intact      24056\n",
       "dtype: int64"
      ]
     },
     "execution_count": 596,
     "metadata": {},
     "output_type": "execute_result"
    }
   ],
   "source": [
    "X_train.count()"
   ]
  },
  {
   "cell_type": "raw",
   "metadata": {},
   "source": []
  },
  {
   "cell_type": "code",
   "execution_count": 617,
   "metadata": {
    "collapsed": false
   },
   "outputs": [
    {
     "name": "stdout",
     "output_type": "stream",
     "text": [
      "best_n_estimators: 45, score: 0.651702207258\n"
     ]
    },
    {
     "data": {
      "image/png": "[encoded data removed]",
      "text/plain": [
       "<matplotlib.figure.Figure at 0x7f9876839f50>"
      ]
     },
     "metadata": {},
     "output_type": "display_data"
    }
   ],
   "source": [
    "from sklearn.ensemble import RandomForestClassifier\n",
    "from sklearn.metrics import accuracy_score\n",
    "from sklearn.linear_model import LogisticRegression\n",
    "\n",
    "train_results = {\n",
    "    'n_estimators_range': range(5, 50, 5),\n",
    "    'scores': [],\n",
    "}\n",
    "n_estimators_range = range(5, 50, 5)\n",
    "\n",
    "\n",
    "for n_estimators in train_results['n_estimators_range']:\n",
    "    estimator = RandomForestClassifier(n_estimators=n_estimators)\n",
    "    estimator.fit(X_train.values, y_train.values)\n",
    "    train_results['scores'].append(estimator.score(X_test, y_test))\n",
    "\n",
    "plt.plot(train_results['n_estimators_range'], train_results['scores'])\n",
    "best_n_estimators = train_results['n_estimators_range'][np.argmax(train_results['scores'])]\n",
    "print(\"best_n_estimators: {}, score: {}\".format(best_n_estimators, np.max(train_results['scores'])))"
   ]
  },
  {
   "cell_type": "code",
   "execution_count": 618,
   "metadata": {
    "collapsed": false
   },
   "outputs": [
    {
     "data": {
      "text/plain": [
       "RandomForestClassifier(bootstrap=True, class_weight=None, criterion='gini',\n",
       "            max_depth=None, max_features='auto', max_leaf_nodes=None,\n",
       "            min_samples_leaf=1, min_samples_split=2,\n",
       "            min_weight_fraction_leaf=0.0, n_estimators=45, n_jobs=1,\n",
       "            oob_score=False, random_state=None, verbose=0,\n",
       "            warm_start=False)"
      ]
     },
     "execution_count": 618,
     "metadata": {},
     "output_type": "execute_result"
    }
   ],
   "source": [
    "estimator = RandomForestClassifier(n_estimators=best_n_estimators)\n",
    "estimator.fit(train[features], train[targets])"
   ]
  },
  {
   "cell_type": "code",
   "execution_count": 619,
   "metadata": {
    "collapsed": false
   },
   "outputs": [],
   "source": [
    "test = pd.read_csv('test.csv.gz')"
   ]
  },
  {
   "cell_type": "code",
   "execution_count": 625,
   "metadata": {
    "collapsed": false
   },
   "outputs": [],
   "source": [
    "test['Age'] = test['AgeuponOutcome'].map(AgeuponOutcome2Age)\n",
    "test['Age'].fillna(train['Age'].median(), inplace=True)\n",
    "\n",
    "   \n",
    "test['AnimalType'] = test['AnimalType'].fillna('Dog')\n",
    "test['CatOrDog'] = test['AnimalType'].map(lambda x: {'Cat': 0, 'Dog': 1}[x])\n",
    "\n",
    "test['HasName'] = (~test['Name'].isnull()).astype(int)\n",
    "\n",
    "test['Sex'] = test['SexuponOutcome'].map(MaleFemale)\n",
    "test['Sex'].fillna(1, inplace=True)\n",
    "\n",
    "test['Intact'] = test['SexuponOutcome'].map(Intact)\n",
    "test['Intact'].fillna(0, inplace=True)\n",
    "\n",
    "y_pred = estimator.predict_proba(test[features])"
   ]
  },
  {
   "cell_type": "code",
   "execution_count": 626,
   "metadata": {
    "collapsed": false
   },
   "outputs": [
    {
     "data": {
      "text/plain": [
       "array([[ 0.17262158,  0.        ,  0.        ,  0.82737842,  0.        ],\n",
       "       [ 0.28049755,  0.02715813,  0.52953525,  0.16036634,  0.00244274],\n",
       "       [ 0.114901  ,  0.00473291,  0.43943656,  0.44092953,  0.        ],\n",
       "       ..., \n",
       "       [ 0.00365679,  0.09800532,  0.        ,  0.890909  ,  0.00742889],\n",
       "       [ 0.44800318,  0.06058671,  0.30555912,  0.18585098,  0.        ],\n",
       "       [ 0.53498469,  0.18314526,  0.01843323,  0.26343682,  0.        ]])"
      ]
     },
     "execution_count": 626,
     "metadata": {},
     "output_type": "execute_result"
    }
   ],
   "source": [
    "y_pred"
   ]
  },
  {
   "cell_type": "code",
   "execution_count": 629,
   "metadata": {
    "collapsed": false
   },
   "outputs": [
    {
     "data": {
      "text/plain": [
       "array([3, 2, 3, ..., 3, 0, 0])"
      ]
     },
     "execution_count": 629,
     "metadata": {},
     "output_type": "execute_result"
    }
   ],
   "source": [
    "np.argmax(y_pred, axis=1)"
   ]
  },
  {
   "cell_type": "code",
   "execution_count": 631,
   "metadata": {
    "collapsed": false
   },
   "outputs": [
    {
     "data": {
      "text/html": [
       "<div>\n",
       "<table border=\"1\" class=\"dataframe\">\n",
       "  <thead>\n",
       "    <tr style=\"text-align: right;\">\n",
       "      <th></th>\n",
       "      <th>ID</th>\n",
       "      <th>OutcomeType</th>\n",
       "      <th>Return_to_owner</th>\n",
       "      <th>Euthanasia</th>\n",
       "      <th>Adoption</th>\n",
       "      <th>Transfer</th>\n",
       "      <th>Died</th>\n",
       "    </tr>\n",
       "  </thead>\n",
       "  <tbody>\n",
       "    <tr>\n",
       "      <th>0</th>\n",
       "      <td>1</td>\n",
       "      <td>Transfer</td>\n",
       "      <td>0.172622</td>\n",
       "      <td>0.000000</td>\n",
       "      <td>0.000000</td>\n",
       "      <td>0.827378</td>\n",
       "      <td>0.000000</td>\n",
       "    </tr>\n",
       "    <tr>\n",
       "      <th>1</th>\n",
       "      <td>2</td>\n",
       "      <td>Adoption</td>\n",
       "      <td>0.280498</td>\n",
       "      <td>0.027158</td>\n",
       "      <td>0.529535</td>\n",
       "      <td>0.160366</td>\n",
       "      <td>0.002443</td>\n",
       "    </tr>\n",
       "    <tr>\n",
       "      <th>2</th>\n",
       "      <td>3</td>\n",
       "      <td>Transfer</td>\n",
       "      <td>0.114901</td>\n",
       "      <td>0.004733</td>\n",
       "      <td>0.439437</td>\n",
       "      <td>0.440930</td>\n",
       "      <td>0.000000</td>\n",
       "    </tr>\n",
       "    <tr>\n",
       "      <th>3</th>\n",
       "      <td>4</td>\n",
       "      <td>Transfer</td>\n",
       "      <td>0.165453</td>\n",
       "      <td>0.034665</td>\n",
       "      <td>0.030597</td>\n",
       "      <td>0.769286</td>\n",
       "      <td>0.000000</td>\n",
       "    </tr>\n",
       "    <tr>\n",
       "      <th>4</th>\n",
       "      <td>5</td>\n",
       "      <td>Adoption</td>\n",
       "      <td>0.342140</td>\n",
       "      <td>0.042044</td>\n",
       "      <td>0.428825</td>\n",
       "      <td>0.185427</td>\n",
       "      <td>0.001563</td>\n",
       "    </tr>\n",
       "  </tbody>\n",
       "</table>\n",
       "</div>"
      ],
      "text/plain": [
       "   ID OutcomeType  Return_to_owner  Euthanasia  Adoption  Transfer      Died\n",
       "0   1    Transfer         0.172622    0.000000  0.000000  0.827378  0.000000\n",
       "1   2    Adoption         0.280498    0.027158  0.529535  0.160366  0.002443\n",
       "2   3    Transfer         0.114901    0.004733  0.439437  0.440930  0.000000\n",
       "3   4    Transfer         0.165453    0.034665  0.030597  0.769286  0.000000\n",
       "4   5    Adoption         0.342140    0.042044  0.428825  0.185427  0.001563"
      ]
     },
     "execution_count": 631,
     "metadata": {},
     "output_type": "execute_result"
    }
   ],
   "source": [
    "pred = pd.DataFrame(data={'ID': test['ID'].values, 'OutcomeType':np.argmax(y_pred, axis=1)})\n",
    "pred['OutcomeType'] = pred['OutcomeType'].map(lambda t: targets_decoder[t])\n",
    "for target_column in train['OutcomeType'].unique():\n",
    "    pred[target_column] = y_pred[:, targets_encoder[target_column]]\n",
    "pred.head()"
   ]
  },
  {
   "cell_type": "code",
   "execution_count": 632,
   "metadata": {
    "collapsed": false
   },
   "outputs": [
    {
     "data": {
      "text/plain": [
       "<matplotlib.axes._subplots.AxesSubplot at 0x7f987689a410>"
      ]
     },
     "execution_count": 632,
     "metadata": {},
     "output_type": "execute_result"
    },
    {
     "data": {
      "image/png": "[encoded data removed]",
      "text/plain": [
       "<matplotlib.figure.Figure at 0x7f98764e2d10>"
      ]
     },
     "metadata": {},
     "output_type": "display_data"
    }
   ],
   "source": [
    "pred['OutcomeType'].value_counts().plot(kind='bar')"
   ]
  },
  {
   "cell_type": "code",
   "execution_count": 633,
   "metadata": {
    "collapsed": true
   },
   "outputs": [],
   "source": [
    "pred.to_csv('pred.csv', index=False, columns=['ID', 'Adoption', 'Died', 'Euthanasia', 'Return_to_owner', 'Transfer'])"
   ]
  },
  {
   "cell_type": "code",
   "execution_count": null,
   "metadata": {
    "collapsed": true
   },
   "outputs": [],
   "source": []
  },
  {
   "cell_type": "code",
   "execution_count": null,
   "metadata": {
    "collapsed": true
   },
   "outputs": [],
   "source": []
  }
 ],
 "metadata": {
  "kernelspec": {
   "display_name": "Python 2",
   "language": "python",
   "name": "python2"
  },
  "language_info": {
   "codemirror_mode": {
    "name": "ipython",
    "version": 2
   },
   "file_extension": ".py",
   "mimetype": "text/x-python",
   "name": "python",
   "nbconvert_exporter": "python",
   "pygments_lexer": "ipython2",
   "version": "2.7.10"
  }
 },
 "nbformat": 4,
 "nbformat_minor": 0
}
