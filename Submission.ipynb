{
 "cells": [
  {
   "cell_type": "markdown",
   "metadata": {},
   "source": [
    "# Kaggle Shelter Animal Outcomes\n",
    "\n",
    "https://www.kaggle.com/c/shelter-animal-outcomes\n",
    "\n",
    "The data comes from Austin Animal Center from October 1st, 2013 to March, 2016. Outcomes represent the status of animals as they leave the Animal Center. All animals receive a unique Animal ID during intake.\n",
    "\n",
    "In this competition, you are going to predict the outcome of the animal as they leave the Animal Center. These outcomes include: Adoption, Died, Euthanasia, Return to owner, and Transfer.\n",
    "\n",
    "The train and test data are randomly split.\n"
   ]
  },
  {
   "cell_type": "code",
   "execution_count": 1,
   "metadata": {
    "collapsed": true
   },
   "outputs": [],
   "source": [
    "import matplotlib.pyplot as plt\n",
    "import matplotlib\n",
    "import numpy as np\n",
    "import pandas as pd\n",
    "import seaborn as sns\n",
    "%matplotlib inline"
   ]
  },
  {
   "cell_type": "code",
   "execution_count": 2,
   "metadata": {
    "collapsed": true
   },
   "outputs": [],
   "source": [
    "train = pd.read_csv('train.csv.gz', parse_dates=['DateTime'], index_col='AnimalID')\n",
    "test = pd.read_csv('test.csv.gz', parse_dates=['DateTime'], index_col='ID')"
   ]
  },
  {
   "cell_type": "code",
   "execution_count": null,
   "metadata": {
    "collapsed": true
   },
   "outputs": [],
   "source": []
  },
  {
   "cell_type": "code",
   "execution_count": 394,
   "metadata": {
    "collapsed": true
   },
   "outputs": [],
   "source": [
    "import re\n",
    "\n",
    "from sklearn.preprocessing import LabelEncoder\n",
    "\n",
    "class FeatureExtractor(object):\n",
    "    DAYS_OF_WEEK = ['Mon', 'Tue', 'Wed', 'Thu', 'Fri', 'Sat', 'Sun']\n",
    "    COLORS = ['Black', 'White', 'Brown', 'Brown']\n",
    "    def __init__(self):\n",
    "        self._label_encoders = dict(\n",
    "            AnimalType = LabelEncoder(),\n",
    "            Sex = LabelEncoder(),\n",
    "            Intact = LabelEncoder(),\n",
    "            Breed = LabelEncoder(),\n",
    "            Color = LabelEncoder(),\n",
    "        )\n",
    "        self._outcomesubtype_dist = dict()\n",
    "        self._age_median = None\n",
    "        self._color_dist = None\n",
    "    \n",
    "    def fit(self, X):\n",
    "        self._label_encoders['AnimalType'].fit(X['AnimalType'])\n",
    "        \n",
    "        self._label_encoders['Sex'].fit(X['SexuponOutcome'].map(self._extract_sex))\n",
    "        self._label_encoders['Intact'].fit(X['SexuponOutcome'].map(self._extract_intact))\n",
    "        \n",
    "        X['AgeInDays'] = X['AgeuponOutcome'].map(self._extract_age)\n",
    "        self._age_median = X.groupby('AnimalType')['AgeInDays'].median()\n",
    "        X = X.drop(['AgeInDays'], axis=1)\n",
    "        \n",
    "        self._label_encoders['Breed'].fit(X['Breed'])\n",
    "        for outcomesubtype in X['OutcomeSubtype'].unique():\n",
    "            self._outcomesubtype_dist[outcomesubtype] = X[X['OutcomeSubtype'] == outcomesubtype]['Breed'].value_counts(normalize=True)\n",
    "        \n",
    "        self._color_dist = X['Color'].value_counts(normalize=True)\n",
    "        self._label_encoders['Color'].fit(X['Color'])\n",
    "        \n",
    "        self._name_dist = X['Name'].value_counts(normalize=True)\n",
    " \n",
    "        return self\n",
    "    \n",
    "    def transform(self, X):\n",
    "        result = pd.DataFrame(index=X.index)\n",
    "\n",
    "        result['HasName'] = (~X['Name'].isnull()).astype(int)\n",
    "        result['NamePopularity'] = X['Name'].dropna().map(lambda name: self._name_dist[name]).fillna(0)\n",
    "        result['NameLength'] = X['Name'].dropna().map(lambda name: len(name)).fillna(0)\n",
    "        \n",
    "        result['AnimalType'] = self._label_encoders['AnimalType'].transform(X['AnimalType'])\n",
    "\n",
    "        result['Sex'] = self._label_encoders['Sex'].transform(X['SexuponOutcome'].map(self._extract_sex))\n",
    "        result['Intact'] = self._label_encoders['Intact'].transform(X['SexuponOutcome'].map(self._extract_intact))\n",
    "\n",
    "        result['AgeuponOutcome'] = X['AgeuponOutcome'].map(self._extract_age)\n",
    "        \n",
    "        result['UnknownAge'] = X['AgeuponOutcome'].isnull().astype(int)\n",
    "        for animaltype in self._label_encoders['AnimalType'].classes_:\n",
    "            result.loc[X['AnimalType'] == animaltype, 'AgeuponOutcome'] = result[X['AnimalType'] == animaltype]['AgeuponOutcome'].fillna(self._age_median[animaltype])\n",
    "\n",
    "        result['Year'] = X['DateTime'].map(lambda dt: dt.year)\n",
    "        result['Quarter'] = X['DateTime'].map(lambda dt: dt.quarter)\n",
    "        result['Month'] = X['DateTime'].map(lambda dt: dt.month)\n",
    "        result['Day'] = X['DateTime'].map(lambda dt: dt.day)\n",
    "        result['DayOfWeek'] = X['DateTime'].map(lambda dt: dt.dayofweek)\n",
    "        result['Hour'] = X['DateTime'].map(lambda dt: dt.hour)\n",
    "        result['Minute'] = X['DateTime'].map(lambda dt: dt.minute)\n",
    "        result[self.DAYS_OF_WEEK] = pd.get_dummies(result['DayOfWeek'].map(\n",
    "                                    lambda d: self.DAYS_OF_WEEK[d]), columns=self.DAYS_OF_WEEK\n",
    "                            )[self.DAYS_OF_WEEK]\n",
    "        \n",
    "        result['BreedMix'] = X['Breed'].map(lambda b: 'Mix' in b).astype(int)\n",
    "        result['Longhair'] = X['Breed'].map(lambda b: 'Longhair' in b).astype(int)\n",
    "        result['Shorthair'] = X['Breed'].map(lambda b: 'Shorthair' in b).astype(int)\n",
    "        result['Breed'] = self._label_encoders['Breed'].transform(X['Breed'])\n",
    "        for outcomesubtype, dist in self._outcomesubtype_dist.items():\n",
    "            result[outcomesubtype] = X['Breed'].map(lambda breed: dist.get(breed, 0))\n",
    "        \n",
    "        result['ColorPopularity'] = X['Color'].map(lambda c: self._color_dist[c])\n",
    "        result['SimpleColor'] = X['Color'].map(lambda color: not '/' in color).astype(int)\n",
    "        result['Color'] = self._label_encoders['Color'].transform(X['Color'])\n",
    "        result['Tabby'] = X['Color'].map(lambda color: 'Tabby' in color).astype(int)\n",
    "        return result\n",
    "    \n",
    "    @classmethod\n",
    "    def _extract_sex(cls, sex):\n",
    "        if pd.isnull(sex):\n",
    "            return 'Unknown'\n",
    "        if 'Female' in sex:\n",
    "            return 'Female'\n",
    "        if 'Male' in sex:\n",
    "            return 'Male'\n",
    "        return 'Unknown'\n",
    "    \n",
    "    @classmethod\n",
    "    def _extract_intact(cls, sex):\n",
    "        if pd.isnull(sex):\n",
    "            return 'Unknown'\n",
    "        if 'Intact' in sex:\n",
    "            return 'Intact'\n",
    "        if 'Spayed' in sex or 'Neutered' in sex:\n",
    "            return 'Spayed'\n",
    "        return 'Unknown'\n",
    "    \n",
    "    @classmethod\n",
    "    def _extract_age(cls, age):\n",
    "        if pd.isnull(age):\n",
    "            return np.nan\n",
    "        days_in = {\n",
    "            'day': 1,\n",
    "            'week': 7,\n",
    "            'month': 30,\n",
    "            'year': 365,\n",
    "        }\n",
    "\n",
    "        m = re.match('(?P<num>\\d+)\\s+(?P<period>\\w+)', age)\n",
    "        num = int(m.group('num'))\n",
    "        period = m.group('period')\n",
    "        if period.endswith('s'):\n",
    "            period = period[:-1]\n",
    "        return num * days_in[period]"
   ]
  },
  {
   "cell_type": "code",
   "execution_count": 448,
   "metadata": {
    "collapsed": false
   },
   "outputs": [],
   "source": [
    "outcometype_encoder = LabelEncoder().fit(train['OutcomeType'])\n",
    "feature_extractor = FeatureExtractor().fit(train.append(test))\n",
    "\n",
    "features = [\n",
    "    'AgeuponOutcome',\n",
    "#     'UnknownAge',\n",
    "    'AnimalType',\n",
    "    'Sex',\n",
    "    'Intact',\n",
    "    'HasName',\n",
    "    'Year',\n",
    "    'Month',\n",
    "    'Quarter',\n",
    "    'Hour',\n",
    "    'Minute',\n",
    "#     'BreedMix',\n",
    "#     'BreedPopularity',\n",
    "#     'Longhair',\n",
    "#     'Shorthair',\n",
    "#     'ColorPopularity',\n",
    "#     'SimpleColor',\n",
    "    *feature_extractor.DAYS_OF_WEEK,\n",
    "#     *train['OutcomeSubtype'].unique(),\n",
    "    'Partner',\n",
    "    'Suffering',\n",
    "    'Foster',\n",
    "    'Aggressive',\n",
    "#     *outcomesubtype_columns,\n",
    "#     'OutcomeSubtypeEncoded',\n",
    "    'Breed',\n",
    "#     'Aggressive',\n",
    "#     'Color',\n",
    "#      'Tabby',\n",
    "#     'NamePopularity',\n",
    "#     'NameLength',\n",
    "]\n",
    "\n",
    "\n",
    "X_train = feature_extractor.transform(train)[features]\n",
    "y_train = outcometype_encoder.transform(train['OutcomeType'])\n",
    "\n",
    "X_test = feature_extractor.transform(test)[features]"
   ]
  },
  {
   "cell_type": "code",
   "execution_count": 402,
   "metadata": {
    "collapsed": false
   },
   "outputs": [
    {
     "name": "stdout",
     "output_type": "stream",
     "text": [
      "Fitting 5 folds for each of 84 candidates, totalling 420 fits\n"
     ]
    },
    {
     "name": "stderr",
     "output_type": "stream",
     "text": [
      "[Parallel(n_jobs=1)]: Done  49 tasks       | elapsed:  2.9min\n",
      "[Parallel(n_jobs=1)]: Done 199 tasks       | elapsed: 15.6min\n",
      "[Parallel(n_jobs=1)]: Done 420 out of 420 | elapsed: 42.3min finished\n"
     ]
    },
    {
     "data": {
      "text/plain": [
       "-0.71348616299028833"
      ]
     },
     "execution_count": 402,
     "metadata": {},
     "output_type": "execute_result"
    }
   ],
   "source": [
    "from xgboost import XGBClassifier\n",
    "from sklearn.grid_search import RandomizedSearchCV, GridSearchCV\n",
    "\n",
    "base_hyperparams = dict(\n",
    "    n_estimators = 80,\n",
    "    max_depth = 10,\n",
    "    subsample = 0.8,\n",
    "    colsample_bytree = 0.7,\n",
    "    seed = 42,\n",
    ")\n",
    "\n",
    "xgb_grid_params = dict(\n",
    "    n_estimators = np.arange(80, 120, 5),\n",
    "    max_depth = np.arange(8, 13),\n",
    ")\n",
    "xbg_grid_search = GridSearchCV(XGBClassifier(**base_hyperparams), rf_param_grid, scoring='log_loss', verbose=True, cv=5)\n",
    "xbg_grid_search.fit(X_train, y_train).best_score_"
   ]
  },
  {
   "cell_type": "code",
   "execution_count": 418,
   "metadata": {
    "collapsed": false
   },
   "outputs": [
    {
     "data": {
      "text/plain": [
       "{'max_depth': 8, 'n_estimators': 110}"
      ]
     },
     "execution_count": 418,
     "metadata": {},
     "output_type": "execute_result"
    }
   ],
   "source": [
    "xbg_grid_search.best_params_"
   ]
  },
  {
   "cell_type": "code",
   "execution_count": 408,
   "metadata": {
    "collapsed": true
   },
   "outputs": [],
   "source": [
    "xgb_estimator = xbg_grid_search.best_estimator_"
   ]
  },
  {
   "cell_type": "code",
   "execution_count": 449,
   "metadata": {
    "collapsed": false
   },
   "outputs": [
    {
     "name": "stdout",
     "output_type": "stream",
     "text": [
      "score mean: -0.716989, score std: 0.006720\n"
     ]
    }
   ],
   "source": [
    "from sklearn.cross_validation import cross_val_score\n",
    "\n",
    "score = cross_val_score(xgb_estimator, X_train, y_train, cv=5, scoring='log_loss')\n",
    "print('score mean: {:0.6f}, score std: {:0.6f}'.format(score.mean(), score.std()))"
   ]
  },
  {
   "cell_type": "code",
   "execution_count": 410,
   "metadata": {
    "collapsed": false
   },
   "outputs": [
    {
     "name": "stdout",
     "output_type": "stream",
     "text": [
      "Fitting 5 folds for each of 84 candidates, totalling 420 fits\n"
     ]
    },
    {
     "name": "stderr",
     "output_type": "stream",
     "text": [
      "[Parallel(n_jobs=1)]: Done  49 tasks       | elapsed:  2.9min\n",
      "[Parallel(n_jobs=1)]: Done 199 tasks       | elapsed: 15.5min\n",
      "[Parallel(n_jobs=1)]: Done 420 out of 420 | elapsed: 42.3min finished\n"
     ]
    },
    {
     "data": {
      "text/plain": [
       "-0.71348616299028833"
      ]
     },
     "execution_count": 410,
     "metadata": {},
     "output_type": "execute_result"
    }
   ],
   "source": [
    "xgb_grid_params = dict(\n",
    "    n_estimators = np.arange(80, 120, 5),\n",
    "    max_depth = np.arange(8, 13),\n",
    "    colsample_bytree = 0.9,\n",
    ")\n",
    "xbg_grid_search = GridSearchCV(XGBClassifier(**base_hyperparams), rf_param_grid, scoring='log_loss', verbose=True, cv=5)\n",
    "xbg_grid_search.fit(X_train, y_train).best_score_"
   ]
  },
  {
   "cell_type": "code",
   "execution_count": 450,
   "metadata": {
    "collapsed": false
   },
   "outputs": [
    {
     "data": {
      "text/plain": [
       "<matplotlib.axes._subplots.AxesSubplot at 0x7fbab530d780>"
      ]
     },
     "execution_count": 450,
     "metadata": {},
     "output_type": "execute_result"
    },
    {
     "data": {
      "image/png": "[encoded data removed]",
      "text/plain": [
       "<matplotlib.figure.Figure at 0x7fbab518f6a0>"
      ]
     },
     "metadata": {},
     "output_type": "display_data"
    }
   ],
   "source": [
    "xgb_estimator = xgb_estimator.fit(X_train, y_train)\n",
    "from xgboost import plot_importance\n",
    "\n",
    "plot_importance(xgb_estimator)"
   ]
  },
  {
   "cell_type": "code",
   "execution_count": 386,
   "metadata": {
    "collapsed": false
   },
   "outputs": [],
   "source": [
    "xgb_pred = xgb_estimator.predict_proba(X_test)"
   ]
  },
  {
   "cell_type": "code",
   "execution_count": 387,
   "metadata": {
    "collapsed": false
   },
   "outputs": [
    {
     "name": "stdout",
     "output_type": "stream",
     "text": [
      "Fitting 5 folds for each of 84 candidates, totalling 420 fits\n"
     ]
    },
    {
     "name": "stderr",
     "output_type": "stream",
     "text": [
      "[Parallel(n_jobs=-1)]: Done  34 tasks      | elapsed:    9.1s\n",
      "[Parallel(n_jobs=-1)]: Done 184 tasks      | elapsed:   52.2s\n",
      "[Parallel(n_jobs=-1)]: Done 420 out of 420 | elapsed:  2.5min finished\n"
     ]
    },
    {
     "data": {
      "text/plain": [
       "-0.75835911330153627"
      ]
     },
     "execution_count": 387,
     "metadata": {},
     "output_type": "execute_result"
    }
   ],
   "source": [
    "from sklearn.ensemble import RandomForestClassifier\n",
    "from sklearn.grid_search import RandomizedSearchCV, GridSearchCV\n",
    "\n",
    "rf_param_grid = dict(\n",
    "    n_estimators = np.arange(80, 150, 10),\n",
    "    max_depth = np.arange(8, 20),\n",
    ")\n",
    "grid_search = GridSearchCV(RandomForestClassifier(), rf_param_grid, scoring='log_loss', verbose=True, cv=5, n_jobs=-1)\n",
    "grid_search.fit(X_train, y_train).best_score_"
   ]
  },
  {
   "cell_type": "code",
   "execution_count": 406,
   "metadata": {
    "collapsed": true
   },
   "outputs": [],
   "source": [
    "rf_estimator = grid_search.best_estimator_"
   ]
  },
  {
   "cell_type": "code",
   "execution_count": 419,
   "metadata": {
    "collapsed": false
   },
   "outputs": [
    {
     "data": {
      "text/plain": [
       "{'max_depth': 15, 'n_estimators': 140}"
      ]
     },
     "execution_count": 419,
     "metadata": {},
     "output_type": "execute_result"
    }
   ],
   "source": [
    "grid_search.best_params_"
   ]
  },
  {
   "cell_type": "code",
   "execution_count": 479,
   "metadata": {
    "collapsed": false
   },
   "outputs": [
    {
     "name": "stdout",
     "output_type": "stream",
     "text": [
      "score mean: -0.744748, score std: 0.003568\n"
     ]
    }
   ],
   "source": [
    "score = cross_val_score(rf_estimator.set_params(criterion='gini'), X_train, y_train, cv=5, scoring='log_loss')\n",
    "print('score mean: {:0.6f}, score std: {:0.6f}'.format(score.mean(), score.std()))"
   ]
  },
  {
   "cell_type": "code",
   "execution_count": 456,
   "metadata": {
    "collapsed": false
   },
   "outputs": [
    {
     "name": "stdout",
     "output_type": "stream",
     "text": [
      "xgb_pred log_loss: 0.7225131235964357\n",
      "rf_pred log_loss: 0.7516835678656014\n",
      "xgb_calib_pred log_loss: 0.7170276848575293\n",
      "rf_calib_pred log_loss: 0.7295822659274345\n",
      "y_pred log_loss: 0.7126763904553242\n",
      "y_pred_w log_loss: 0.7110365695141527\n"
     ]
    }
   ],
   "source": [
    "from sklearn.metrics import log_loss\n",
    "from sklearn.cross_validation import train_test_split\n",
    "\n",
    "from scipy.optimize import minimize\n",
    "from sklearn.calibration import CalibratedClassifierCV\n",
    "\n",
    "def fn(X, y):\n",
    "    X_train, X_test, y_train, y_test = train_test_split(X, y, test_size=0.2, random_state=42)\n",
    "    \n",
    "    xgb_pred = XGBClassifier(**xbg_grid_search.best_params_).fit(X_train, y_train).predict_proba(X_test)\n",
    "    rf_pred = RandomForestClassifier(**grid_search.best_params_, random_state=42).fit(X_train, y_train).predict_proba(X_test)\n",
    "    xgb_calib_pred = CalibratedClassifierCV(XGBClassifier(**xbg_grid_search.best_params_), cv=10, method='isotonic').fit(X_train, y_train).predict_proba(X_test)\n",
    "    rf_calib_pred = CalibratedClassifierCV(RandomForestClassifier(**grid_search.best_params_, random_state=42), cv=10, method='isotonic').fit(X_train, y_train).predict_proba(X_test)\n",
    "    \n",
    "    y_pred = (xgb_pred + rf_calib_pred)/2\n",
    "    print(\"xgb_pred log_loss: {}\".format(log_loss(y_test, xgb_pred)))\n",
    "    print(\"rf_pred log_loss: {}\".format(log_loss(y_test, rf_pred)))\n",
    "    print(\"xgb_calib_pred log_loss: {}\".format(log_loss(y_test, xgb_calib_pred)))\n",
    "    print(\"rf_calib_pred log_loss: {}\".format(log_loss(y_test, rf_calib_pred)))\n",
    "    print(\"y_pred log_loss: {}\".format(log_loss(y_test, y_pred)))\n",
    "    \n",
    "    def target_fn(x):\n",
    "        return log_loss(y_test, x[0]*xgb_calib_pred + x[1]*rf_calib_pred)\n",
    "\n",
    "    def norm_consraint(x):\n",
    "        return np.sum(x) - 1\n",
    "\n",
    "    xopt = minimize(target_fn, [1/2]*2, bounds=[[0, 1] for i in range(2)], constraints=({'type': 'eq', 'fun': norm_consraint}), tol=1e-14)\n",
    "    print(\"y_pred_w log_loss: {}\".format(xopt.fun))\n",
    "    return xopt.x\n",
    "weigths = fn(X_train, y_train)"
   ]
  },
  {
   "cell_type": "code",
   "execution_count": 477,
   "metadata": {
    "collapsed": false
   },
   "outputs": [
    {
     "name": "stdout",
     "output_type": "stream",
     "text": [
      "(21383, 10)\n"
     ]
    },
    {
     "data": {
      "text/plain": [
       "1.4580230374687959"
      ]
     },
     "execution_count": 477,
     "metadata": {},
     "output_type": "execute_result"
    }
   ],
   "source": [
    "from sklearn.linear_model import LogisticRegression\n",
    "\n",
    "def stacking(X, y):\n",
    "    X_train, X_test, y_train, y_test = train_test_split(X, y, test_size=0.2, random_state=42)\n",
    "    \n",
    "    xgb_calib_est = CalibratedClassifierCV(XGBClassifier(**xbg_grid_search.best_params_), cv=10, method='isotonic').fit(X_train, y_train)\n",
    "    xgb_calib_pred = xgb_calib_est.predict_proba(X_test)\n",
    "    rf_calib_est = CalibratedClassifierCV(RandomForestClassifier(**grid_search.best_params_, random_state=42), cv=10, method='isotonic').fit(X_train, y_train)\n",
    "    rf_calib_pred = rf_calib_est.predict_proba(X_test)\n",
    "    \n",
    "    X_pred_train = np.hstack((xgb_calib_est.predict_proba(X_train), rf_calib_est.predict_proba(X_train)))\n",
    "    print(X_pred_train.shape)\n",
    "    X_pred_test = np.hstack((xgb_calib_est.predict_proba(X_test), rf_calib_est.predict_proba(X_test)))\n",
    "    return log_loss(y_test, XGBClassifier(**xbg_grid_search.best_params_).fit(X_pred_train, y_train).predict_proba(X_pred_test))\n",
    "\n",
    "stacking(X_train, y_train)"
   ]
  },
  {
   "cell_type": "code",
   "execution_count": 457,
   "metadata": {
    "collapsed": false
   },
   "outputs": [
    {
     "data": {
      "text/plain": [
       "array([ 0.63189539,  0.36810461])"
      ]
     },
     "execution_count": 457,
     "metadata": {},
     "output_type": "execute_result"
    }
   ],
   "source": [
    "weigths"
   ]
  },
  {
   "cell_type": "code",
   "execution_count": 438,
   "metadata": {
    "collapsed": false
   },
   "outputs": [],
   "source": [
    "# from sklearn.ensemble import GradientBoostingClassifier\n",
    "\n",
    "# gb_pred = GradientBoostingClassifier(n_estimators=90, max_depth=14).fit(X_train, y_train).predict_proba(X_test)"
   ]
  },
  {
   "cell_type": "code",
   "execution_count": 458,
   "metadata": {
    "collapsed": false
   },
   "outputs": [
    {
     "data": {
      "text/plain": [
       "(26729, 22)"
      ]
     },
     "execution_count": 458,
     "metadata": {},
     "output_type": "execute_result"
    }
   ],
   "source": [
    "X_train.shape"
   ]
  },
  {
   "cell_type": "code",
   "execution_count": 459,
   "metadata": {
    "collapsed": true
   },
   "outputs": [],
   "source": [
    "xgb_pred = CalibratedClassifierCV(XGBClassifier(**xbg_grid_search.best_params_), cv=10, method='isotonic').fit(X_train, y_train).predict_proba(X_test)\n",
    "rf_pred = CalibratedClassifierCV(RandomForestClassifier(**grid_search.best_params_, random_state=42), cv=10, method='isotonic').fit(X_train, y_train).predict_proba(X_test)"
   ]
  },
  {
   "cell_type": "code",
   "execution_count": 460,
   "metadata": {
    "collapsed": true
   },
   "outputs": [],
   "source": [
    "y_pred = weigths[0]*xgb_pred + weigths[1]*rf_pred\n",
    "# y_pred = xgb_pred"
   ]
  },
  {
   "cell_type": "code",
   "execution_count": 461,
   "metadata": {
    "collapsed": true
   },
   "outputs": [],
   "source": [
    "submission = pd.DataFrame(index=test.index)\n",
    "for i, outcome_type in enumerate(outcometype_encoder.classes_):\n",
    "    submission[outcome_type] = y_pred[:, i]"
   ]
  },
  {
   "cell_type": "code",
   "execution_count": 462,
   "metadata": {
    "collapsed": true
   },
   "outputs": [],
   "source": [
    "submission.to_csv('pred.csv')"
   ]
  },
  {
   "cell_type": "code",
   "execution_count": null,
   "metadata": {
    "collapsed": true
   },
   "outputs": [],
   "source": []
  }
 ],
 "metadata": {
  "kernelspec": {
   "display_name": "Python 3",
   "language": "python",
   "name": "python3"
  },
  "language_info": {
   "codemirror_mode": {
    "name": "ipython",
    "version": 3
   },
   "file_extension": ".py",
   "mimetype": "text/x-python",
   "name": "python",
   "nbconvert_exporter": "python",
   "pygments_lexer": "ipython3",
   "version": "3.5.1"
  }
 },
 "nbformat": 4,
 "nbformat_minor": 0
}
